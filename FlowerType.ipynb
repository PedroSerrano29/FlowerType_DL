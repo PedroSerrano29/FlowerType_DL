{
 "cells": [
  {
   "cell_type": "markdown",
   "id": "6b34c524",
   "metadata": {},
   "source": [
    "Vamos construir um modelo de aprendizagem não supervisionado para compreender a diferença deste tipo de algoritmos. Então, vamos\n",
    "utilizar um algoritmo de tipo K-means para prever o tipo de flor com base numa série de características.\n",
    "\n",
    "Para isso, deve utilizar-se o seguinte dataset e cumprir as seguintes normas:\n",
    "https://archive.ics.uci.edu/ml/datasets/iris\n",
    "\n",
    "• No caso de ter de limpar os dados, não se poderá utilizar as bibliotecas de limpeza, tem de se criar operações de limpeza\n",
    "com a utilização de funções básicas Python.\n",
    "\n",
    "• Deve-se mostrar graficamente o conjunto de polos.\n",
    "\n",
    "Pode-se rever a documentação referente a K-means no seguinte link:\n",
    "https://scikit-learn.org/stable/modules/generated/sklearn.cluster.KMeans.html"
   ]
  },
  {
   "cell_type": "markdown",
   "id": "7577473a",
   "metadata": {},
   "source": [
    "# Prever o tipo de flor com base numa série de características\n",
    "###   Utilizando um algoritmo de tipo K-means\n",
    "\n",
    "Este notebook tem como objectivo construir um modelo de aprendizagem nao supervisionado para compreender a diferença deste tipo de algoritmo (K-means) para prever o tipo de flor com base numa série de características."
   ]
  },
  {
   "cell_type": "markdown",
   "id": "c451b146",
   "metadata": {},
   "source": [
    "# Carregar o Dataset\n",
    "Carregar os dados através de https://archive.ics.uci.edu/ml/datasets/iris"
   ]
  },
  {
   "cell_type": "code",
   "execution_count": 1,
   "id": "2b7ca7a3",
   "metadata": {},
   "outputs": [
    {
     "name": "stdout",
     "output_type": "stream",
     "text": [
      "{'uci_id': 53, 'name': 'Iris', 'repository_url': 'https://archive.ics.uci.edu/dataset/53/iris', 'data_url': 'https://archive.ics.uci.edu/static/public/53/data.csv', 'abstract': 'A small classic dataset from Fisher, 1936. One of the earliest known datasets used for evaluating classification methods.\\n', 'area': 'Biology', 'tasks': ['Classification'], 'characteristics': ['Tabular'], 'num_instances': 150, 'num_features': 4, 'feature_types': ['Real'], 'demographics': [], 'target_col': ['class'], 'index_col': None, 'has_missing_values': 'no', 'missing_values_symbol': None, 'year_of_dataset_creation': 1936, 'last_updated': 'Tue Sep 12 2023', 'dataset_doi': '10.24432/C56C76', 'creators': ['R. A. Fisher'], 'intro_paper': {'ID': 191, 'type': 'NATIVE', 'title': 'The Iris data set: In search of the source of virginica', 'authors': 'A. Unwin, K. Kleinman', 'venue': 'Significance, 2021', 'year': 2021, 'journal': 'Significance, 2021', 'DOI': '1740-9713.01589', 'URL': 'https://www.semanticscholar.org/paper/4599862ea877863669a6a8e63a3c707a787d5d7e', 'sha': None, 'corpus': None, 'arxiv': None, 'mag': None, 'acl': None, 'pmid': None, 'pmcid': None}, 'additional_info': {'summary': 'This is one of the earliest datasets used in the literature on classification methods and widely used in statistics and machine learning.  The data set contains 3 classes of 50 instances each, where each class refers to a type of iris plant.  One class is linearly separable from the other 2; the latter are not linearly separable from each other.\\n\\nPredicted attribute: class of iris plant.\\n\\nThis is an exceedingly simple domain.\\n\\nThis data differs from the data presented in Fishers article (identified by Steve Chadwick,  spchadwick@espeedaz.net ).  The 35th sample should be: 4.9,3.1,1.5,0.2,\"Iris-setosa\" where the error is in the fourth feature. The 38th sample: 4.9,3.6,1.4,0.1,\"Iris-setosa\" where the errors are in the second and third features.  ', 'purpose': 'N/A', 'funded_by': None, 'instances_represent': 'Each instance is a plant', 'recommended_data_splits': None, 'sensitive_data': None, 'preprocessing_description': None, 'variable_info': None, 'citation': None}}\n",
      "           name     role         type demographic  \\\n",
      "0  sepal length  Feature   Continuous        None   \n",
      "1   sepal width  Feature   Continuous        None   \n",
      "2  petal length  Feature   Continuous        None   \n",
      "3   petal width  Feature   Continuous        None   \n",
      "4         class   Target  Categorical        None   \n",
      "\n",
      "                                         description units missing_values  \n",
      "0                                               None    cm             no  \n",
      "1                                               None    cm             no  \n",
      "2                                               None    cm             no  \n",
      "3                                               None    cm             no  \n",
      "4  class of iris plant: Iris Setosa, Iris Versico...  None             no  \n"
     ]
    }
   ],
   "source": [
    "from ucimlrepo import fetch_ucirepo \n",
    "  \n",
    "# fetch dataset \n",
    "iris = fetch_ucirepo(id=53) \n",
    "  \n",
    "# data (as pandas dataframes) \n",
    "X = iris.data.features \n",
    "y = iris.data.targets \n",
    "  \n",
    "# metadata \n",
    "print(iris.metadata) \n",
    "  \n",
    "# variable information \n",
    "print(iris.variables) \n"
   ]
  },
  {
   "cell_type": "markdown",
   "id": "3b5175c1",
   "metadata": {},
   "source": [
    "# 1. Exploração Inicial dos Dados\n",
    "Vamos começar por explorar o dataset: visualizar algumas amostras, tipos de variáveis e estatísticas básicas para entender melhor os dados."
   ]
  },
  {
   "cell_type": "code",
   "execution_count": 2,
   "id": "41776e5c",
   "metadata": {},
   "outputs": [
    {
     "name": "stdout",
     "output_type": "stream",
     "text": [
      "Amostras das variáveis independentes (features):\n",
      "   sepal length  sepal width  petal length  petal width\n",
      "0           5.1          3.5           1.4          0.2\n",
      "1           4.9          3.0           1.4          0.2\n",
      "2           4.7          3.2           1.3          0.2\n",
      "3           4.6          3.1           1.5          0.2\n",
      "4           5.0          3.6           1.4          0.2\n",
      "\n",
      "Amostras das variáveis alvo (targets):\n",
      "         class\n",
      "0  Iris-setosa\n",
      "1  Iris-setosa\n",
      "2  Iris-setosa\n",
      "3  Iris-setosa\n",
      "4  Iris-setosa\n",
      "\n",
      "Tipos de variáveis (features):\n",
      "sepal length    float64\n",
      "sepal width     float64\n",
      "petal length    float64\n",
      "petal width     float64\n",
      "dtype: object\n",
      "\n",
      "Tipos de variáveis (targets):\n",
      "class    object\n",
      "dtype: object\n",
      "\n",
      "Estatísticas descritivas das features:\n",
      "       sepal length  sepal width  petal length  petal width\n",
      "count    150.000000   150.000000    150.000000   150.000000\n",
      "mean       5.843333     3.054000      3.758667     1.198667\n",
      "std        0.828066     0.433594      1.764420     0.763161\n",
      "min        4.300000     2.000000      1.000000     0.100000\n",
      "25%        5.100000     2.800000      1.600000     0.300000\n",
      "50%        5.800000     3.000000      4.350000     1.300000\n",
      "75%        6.400000     3.300000      5.100000     1.800000\n",
      "max        7.900000     4.400000      6.900000     2.500000\n"
     ]
    }
   ],
   "source": [
    "# Exploração inicial dos dados\n",
    "print(\"Amostras das variáveis independentes (features):\")\n",
    "print(X.head())\n",
    "\n",
    "print(\"\\nAmostras das variáveis alvo (targets):\")\n",
    "print(y.head())\n",
    "\n",
    "print(\"\\nTipos de variáveis (features):\")\n",
    "print(X.dtypes)\n",
    "\n",
    "print(\"\\nTipos de variáveis (targets):\")\n",
    "print(y.dtypes)\n",
    "\n",
    "print(\"\\nEstatísticas descritivas das features:\")\n",
    "print(X.describe())"
   ]
  },
  {
   "cell_type": "markdown",
   "id": "5d7e919e",
   "metadata": {},
   "source": [
    "# 2. Limpeza Manual dos Dados com Funções Básicas Python\n",
    "Nesta etapa, vamos identificar e tratar valores ausentes, duplicados ou inconsistentes utilizando a biblioteca Pandas do Python."
   ]
  },
  {
   "cell_type": "code",
   "execution_count": 3,
   "id": "277bf842",
   "metadata": {},
   "outputs": [
    {
     "name": "stdout",
     "output_type": "stream",
     "text": [
      "Valores ausentes por coluna (features X): {}\n",
      "Valores ausentes por coluna (targets Y): {}\n",
      "Dados após remoção de linhas com valores ausentes: (150, 4)\n",
      "Dados após remoção de duplicados: (147, 4)\n"
     ]
    }
   ],
   "source": [
    "import pandas as pd\n",
    "\n",
    "# Verificar valores ausentes manualmente\n",
    "missing_features = {}\n",
    "for col in X.columns:\n",
    "    missing = sum([1 for v in X[col] if pd.isnull(v)])\n",
    "    if missing > 0:\n",
    "        missing_features[col] = missing\n",
    "print(\"Valores ausentes por coluna (features X):\", missing_features)\n",
    "\n",
    "missing_targets = {}\n",
    "for col in y.columns:\n",
    "    missing = sum([1 for v in y[col] if pd.isnull(v)])\n",
    "    if missing > 0:\n",
    "        missing_targets[col] = missing\n",
    "print(\"Valores ausentes por coluna (targets Y):\", missing_targets)\n",
    "\n",
    "# Remover linhas com valores ausentes\n",
    "def remove_missing_rows(X_df, y_df):\n",
    "    indices_to_keep = []\n",
    "    for idx in range(len(X_df)):\n",
    "        row = X_df.iloc[idx]\n",
    "        target_row = y_df.iloc[idx]\n",
    "        if not any(pd.isnull(row)) and not any(pd.isnull(target_row)):\n",
    "            indices_to_keep.append(idx)\n",
    "    X_clean = X_df.iloc[indices_to_keep].reset_index(drop=True)\n",
    "    y_clean = y_df.iloc[indices_to_keep].reset_index(drop=True)\n",
    "    return X_clean, y_clean\n",
    "\n",
    "X_clean, y_clean = remove_missing_rows(X, y)\n",
    "print(f\"Dados após remoção de linhas com valores ausentes: {X_clean.shape}\")\n",
    "\n",
    "# Remover duplicados manualmente\n",
    "def remove_duplicates(X_df, y_df):\n",
    "    seen = set()\n",
    "    indices_to_keep = []\n",
    "    for idx in range(len(X_df)):\n",
    "        row_tuple = tuple(X_df.iloc[idx]) + tuple(y_df.iloc[idx])\n",
    "        if row_tuple not in seen:\n",
    "            seen.add(row_tuple)\n",
    "            indices_to_keep.append(idx)\n",
    "    X_nodup = X_df.iloc[indices_to_keep].reset_index(drop=True)\n",
    "    y_nodup = y_df.iloc[indices_to_keep].reset_index(drop=True)\n",
    "    return X_nodup, y_nodup\n",
    "\n",
    "X_clean, y_clean = remove_duplicates(X_clean, y_clean)\n",
    "print(f\"Dados após remoção de duplicados: {X_clean.shape}\")"
   ]
  },
  {
   "cell_type": "markdown",
   "id": "233f8c3c",
   "metadata": {},
   "source": [
    "# 3. Aplicar K-means nos dados limpos"
   ]
  },
  {
   "cell_type": "code",
   "execution_count": 4,
   "id": "385a4527",
   "metadata": {},
   "outputs": [],
   "source": [
    "# Importar K-means do scikit-Learn\n",
    "from sklearn.cluster import KMeans\n",
    "\n",
    "# Remover a coluna 'cluster' se já existir (para evitar erro ao rodar várias vezes)\n",
    "if 'cluster' in X_clean.columns:\n",
    "    X_clean = X_clean.drop(columns=['cluster'])\n",
    "\n",
    "# Aplicar K-means (3 clusters para as 3 espécies de flores)\n",
    "kmeans = KMeans(n_clusters=3, random_state=42)\n",
    "kmeans.fit(X_clean)\n",
    "\n",
    "# Adicionar os rótulos dos clusters ao DataFrame\n",
    "X_clean['cluster'] = kmeans.labels_"
   ]
  },
  {
   "cell_type": "markdown",
   "id": "c28d2ccd",
   "metadata": {},
   "source": [
    "# 4. Mostrar graficamente o conjunto de polos (centroides dos clusters)"
   ]
  },
  {
   "cell_type": "code",
   "execution_count": 11,
   "id": "8e166423",
   "metadata": {},
   "outputs": [
    {
     "data": {
      "image/png": "[encoded data removed]",
      "text/plain": [
       "<Figure size 800x600 with 1 Axes>"
      ]
     },
     "metadata": {},
     "output_type": "display_data"
    }
   ],
   "source": [
    "import matplotlib.pyplot as plt\n",
    "\n",
    "# Exemplo de mapeamento (ajuste conforme sua matriz de confusão)\n",
    "cluster_to_species = {\n",
    "    0: \"Versicolor\",      # Azul\n",
    "    1: \"Virginica\",   # Laranja\n",
    "    2: \"Setosa\"   # Verde\n",
    "}\n",
    "\n",
    "colors = ['blue', 'orange', 'green']\n",
    "\n",
    "plt.figure(figsize=(8, 6))\n",
    "for cluster in range(3):\n",
    "    plt.scatter(\n",
    "        X_clean[X_clean['cluster'] == cluster].iloc[:, 0],\n",
    "        X_clean[X_clean['cluster'] == cluster].iloc[:, 1],\n",
    "        label=f\"{colors[cluster].capitalize()} (Cluster {cluster}) = {cluster_to_species[cluster]}\",\n",
    "        color=colors[cluster]\n",
    "    )\n",
    "\n",
    "# Centroides (polos)\n",
    "centers = kmeans.cluster_centers_\n",
    "plt.scatter(\n",
    "    centers[:, 0], centers[:, 1],\n",
    "    c='black', s=200, alpha=0.6, marker='X', label='Centroides (Polos)'\n",
    ")\n",
    "\n",
    "plt.xlabel(X_clean.columns[0])\n",
    "plt.ylabel(X_clean.columns[1])\n",
    "plt.title('Clusters e Polos (Centroides) - K-means')\n",
    "plt.legend()\n",
    "plt.show()"
   ]
  },
  {
   "cell_type": "code",
   "execution_count": 9,
   "id": "b3fe292b",
   "metadata": {},
   "outputs": [
    {
     "name": "stdout",
     "output_type": "stream",
     "text": [
      "Matriz de Confusão entre clusters e espécies reais:\n",
      "[[ 0  0 48]\n",
      " [47  3  0]\n",
      " [13 36  0]]\n",
      "Inertia (Soma das distâncias quadradas dentro dos clusters): 77.92\n",
      "Silhouette Score: 0.55\n"
     ]
    }
   ],
   "source": [
    "# Indicadores adicionais para avaliação dos clusters\n",
    "\n",
    "from sklearn.metrics import confusion_matrix, silhouette_score\n",
    "import numpy as np\n",
    "\n",
    "# Converter rótulos verdadeiros para valores numéricos\n",
    "true_labels = pd.factorize(y_clean.iloc[:, 0].values)[0]\n",
    "pred_labels = X_clean['cluster'].values\n",
    "\n",
    "conf_matrix = confusion_matrix(true_labels, pred_labels)\n",
    "print(\"Matriz de Confusão entre clusters e espécies reais:\")\n",
    "print(conf_matrix)\n",
    "\n",
    "# 2. Inertia (soma das distâncias quadradas dentro dos clusters)\n",
    "print(f\"Inertia (Soma das distâncias quadradas dentro dos clusters): {kmeans.inertia_:.2f}\")\n",
    "\n",
    "# 3. Silhouette Score\n",
    "sil_score = silhouette_score(X_clean.drop(columns=['cluster']), X_clean['cluster'])\n",
    "print(f\"Silhouette Score: {sil_score:.2f}\")"
   ]
  },
  {
   "cell_type": "markdown",
   "id": "50ad0210",
   "metadata": {},
   "source": [
    "# Análise dos Clusters\n",
    "\n",
    "A matriz de confusão obtida foi:\n",
    "```\n",
    "[[ 0  0 48]\n",
    " [47  3  0]\n",
    " [13 36  0]]\n",
    "```\n",
    "Cada linha representa uma espécie real (na ordem: Setosa, Versicolor, Virginica) e cada coluna representa um cluster (Cluster 0 = azul, Cluster 1 = laranja, Cluster 2 = verde).\n",
    "\n",
    "**Cluster 0 (Azul):**\n",
    "- Contém principalmente amostras da espécie Versicolor (47) e algumas de Virginica (13).\n",
    "- Não contém amostras de Setosa.\n",
    "- Este cluster mistura Versicolor e Virginica, mostrando que essas espécies têm características semelhantes para o K-means.\n",
    "\n",
    "**Cluster 1 (Laranja):**\n",
    "- Contém principalmente amostras de Virginica (36) e algumas de Versicolor (3).\n",
    "- Não contém amostras de Setosa.\n",
    "- Este cluster representa principalmente a espécie Virginica, mas com alguma confusão com Versicolor.\n",
    "\n",
    "**Cluster 2 (Verde):**\n",
    "- Contém todas as amostras de Setosa (48).\n",
    "- Não contém amostras de Versicolor ou Virginica.\n",
    "- O cluster verde separou perfeitamente a espécie Setosa, mostrando que ela é facilmente distinguível pelas suas características.\n",
    "\n",
    "## Indicadores Quantitativos\n",
    "\n",
    "- **Inertia:** 77.92 — indica que os pontos estão relativamente próximos dos seus centroides, sugerindo boa compactação dos clusters.\n",
    "- **Silhouette Score:** 0.55 — indica uma separação razoável entre os clusters, mas não perfeita, devido à sobreposição entre Versicolor e Virginica.\n",
    "\n",
    "## Conclusão\n",
    "\n",
    "O K-means conseguiu identificar claramente a espécie Setosa (cluster verde), enquanto as espécies Versicolor e Virginica apresentaram sobreposição nos clusters azul e laranja. Isso reflete a maior semelhança entre as características dessas duas espécies. O exercício demonstra a utilidade do K-means para identificar padrões em dados não rotulados, mas também evidencia as limitações do método quando as classes possuem"
   ]
  }
 ],
 "metadata": {
  "kernelspec": {
   "display_name": "Python 3",
   "language": "python",
   "name": "python3"
  },
  "language_info": {
   "codemirror_mode": {
    "name": "ipython",
    "version": 3
   },
   "file_extension": ".py",
   "mimetype": "text/x-python",
   "name": "python",
   "nbconvert_exporter": "python",
   "pygments_lexer": "ipython3",
   "version": "3.12.1"
  }
 },
 "nbformat": 4,
 "nbformat_minor": 5
}
